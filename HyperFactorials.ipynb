{
 "cells": [
  {
   "cell_type": "markdown",
   "id": "7b80a197",
   "metadata": {},
   "source": [
    "Note: *I use the term Hyperfactorial differently than used by [wikipedia](https://en.wikipedia.org/wiki/Hyperfactorial) and [wolfram](https://mathworld.wolfram.com/Hyperfactorial.html). These sources use the term to describe what I am describing here as exactly (and only) the exponential factorial. I am using the term to describe a variable hyperdegree of factorial based on the hyperoperation, e.g. Addition? Multiplication? Exponentiation? Tetration?*\n",
    "\n",
    "The thought is that $Triangular < Factorial < Exponential Factorial < Tetrative Factorial <....H_{n} Factorial$ lies on the same sort of hypersequence of succession. The language here might be confusing because of legacy naming conventions, but the $Triangular$ could be called the factorial on the additive hyperlevel. And what is normally called the $Factorial$ could be specified as the factorial on the multiplicative level, so both will be represented as such here. \n",
    "\n",
    "\n",
    "Additionally, I feel it is necessary to insert hyperfactorials for the two preceding hyperoperations to the beginning of this sequence; incrementation, $a+1$ and, what I will call ***Negation*** as this hyperoperation does not seem to be defined elsewhere. [Depending on whether a one vector or two vector number system](https://github.com/cloudroger/one_vector_numbers/blob/main/single_vector_wp.ipynb) is used, the negation sequence will be different. If it is the traditional two vector, it will be $a-b$. If it is a one vector system, it will be $a / b$. So I have included the sequences for both types.\n",
    "\n",
    "So we have the hyperoperations:\n",
    "\n",
    "$Negation = a - b = a[-1]b$\n",
    "\n",
    "$Incrementation = a + 1 = a[0]b$ \n",
    "\n",
    "$Addition = a + b = a[1]b$ \n",
    "\n",
    "$Multiplication = a * b = a[2]b$ \n",
    "\n",
    "$Exponentiation = a^b = a[3]b$ \n",
    "\n",
    "$Tetration = ^{b}a = a[4]b$\n",
    "\n",
    "$etc..$\n",
    "\n",
    "So, we can now use this sequence of hyperoperations and establish a sequence of hyperfactorials.\n",
    "\n",
    "(Assuming a two vector number system) $NegationF = a-! = -1 - 2 - 3 -...- n = F[-1]$ so that as $\\lim_{n\\to -\\infty}, F[-1] = -\\infty$\n",
    "\n",
    "(Assuming a one vector number system) $NegationF = a-! = (1/1) + (1/2) + (1/3) +...+ (1|n) = F[-1]$ so that as $\\lim_{n \\to \\infty}, F[-1] = c$ where $c$ is some unknown constant\n",
    "\n",
    "$IncrementationF = a1! = n - 1 = 0 + 1 + 1 +...+ 1 = F[0]$  so that $\\lim_{n \\to +\\infty}, F[0] = 1$\n",
    "\n",
    "$AdditionF = a+! = 1 + 2 + 3 +...+ n = F[1]$ so that $\\lim_{n \\to \\infty}, F[1] = \\infty$\n",
    "\n",
    "$MultiplicationF = a*! =  2 * 3 * 4 *...* n = F[2]$\n",
    "\n",
    "$ExponentiationF = (a)^! = ((3^4)^5)^n = F[3]$\n",
    "\n",
    "$TetrationF = ^{!}a = (^{n}(^{6}(^{5}4)) = F[4]$ \n",
    "\n",
    "$etc..$\n",
    "\n",
    "So assuming my sequences are correct, now is where the fun part begins. What can the transitive properties of the hyperfactorials tell you about, for example, prime numbers? "
   ]
  }
 ],
 "metadata": {
  "kernelspec": {
   "display_name": "Python 3",
   "language": "python",
   "name": "python3"
  },
  "language_info": {
   "codemirror_mode": {
    "name": "ipython",
    "version": 3
   },
   "file_extension": ".py",
   "mimetype": "text/x-python",
   "name": "python",
   "nbconvert_exporter": "python",
   "pygments_lexer": "ipython3",
   "version": "3.8.10"
  }
 },
 "nbformat": 4,
 "nbformat_minor": 5
}
