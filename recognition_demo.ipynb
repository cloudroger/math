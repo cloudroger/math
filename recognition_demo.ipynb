{
 "cells": [
  {
   "cell_type": "markdown",
   "id": "8909569b",
   "metadata": {},
   "source": [
    "This algorithm can identify patterns on 3 hyperoperations; addition, multiplication, and exponentiation."
   ]
  },
  {
   "cell_type": "markdown",
   "id": "f3424946",
   "metadata": {},
   "source": [
    "In the input, type in a list of numbers that follows any single pattern on the addition, multiplication, or exponentation level; beginning with the $0th$ index. Make sure to give enough pattern samples!\n",
    "\n",
    "Examples:\n",
    "\n",
    "If you chose the $n * 8$ pattern: ***0, 8, 16, 24, 32, 40, 48, 56, 64, 72, 80, 88***\n",
    "\n",
    "If you chose the $n ^ 3$ pattern: ***0, 1, 8, 27, 64, 125, 216, 343, 512, 729, 1000, 1331***\n",
    "\n",
    "If you chose the $n + 11$ pattern: ***11, 12, 13, 14, 15, 16, 17, 18, 19, 20, 21, 22, 23, 24***"
   ]
  },
  {
   "cell_type": "code",
   "execution_count": 1,
   "id": "5c6ffe79",
   "metadata": {},
   "outputs": [],
   "source": [
    "from patterns import recognize, execute"
   ]
  },
  {
   "cell_type": "code",
   "execution_count": 2,
   "id": "1b916b65",
   "metadata": {},
   "outputs": [
    {
     "name": "stdout",
     "output_type": "stream",
     "text": [
      "Enter numbers:\n",
      "0, 6, 12, 18, 24, 30, 36, 42, 48, 54, 60, 66\n"
     ]
    },
    {
     "data": {
      "text/markdown": [
       "*$n * 6$*"
      ],
      "text/plain": [
       "<IPython.core.display.Markdown object>"
      ]
     },
     "metadata": {},
     "output_type": "display_data"
    }
   ],
   "source": [
    "from IPython.display import display, Markdown\n",
    "from patterns import recognize, get_markdown\n",
    "\n",
    "hyperop, b = execute()\n",
    "(display(Markdown(get_markdown(hyperop, b))))"
   ]
  },
  {
   "cell_type": "code",
   "execution_count": null,
   "id": "3c2f3fb0",
   "metadata": {},
   "outputs": [],
   "source": []
  }
 ],
 "metadata": {
  "kernelspec": {
   "display_name": "Python 3 (ipykernel)",
   "language": "python",
   "name": "python3"
  },
  "language_info": {
   "codemirror_mode": {
    "name": "ipython",
    "version": 3
   },
   "file_extension": ".py",
   "mimetype": "text/x-python",
   "name": "python",
   "nbconvert_exporter": "python",
   "pygments_lexer": "ipython3",
   "version": "3.9.12"
  }
 },
 "nbformat": 4,
 "nbformat_minor": 5
}
