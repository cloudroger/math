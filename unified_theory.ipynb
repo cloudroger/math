{
 "cells": [
  {
   "cell_type": "markdown",
   "id": "55cca09d",
   "metadata": {},
   "source": [
    "*Let's represent the building blocks of our universe with integers :)*\n",
    "\n",
    "In order of the smallest to largest that we know of so far, we have $Quarks, Protons\\&Neutrons, Electrons, Atoms, Molecules, PhysicalSpace$\n",
    "\n",
    "Now, we have this neat list of progressions. ***What if we did something here?***\n",
    "\n",
    "What if we assigned each level an integer, knowing that our physical space number has to be 3 (because we know we can use 3 dimensions)"
   ]
  },
  {
   "cell_type": "markdown",
   "id": "02844074",
   "metadata": {},
   "source": [
    "-2 = quarks (quarks can arrange whatever is at the -3 dimensional coordinate on -2 dimensions)\n",
    "\n",
    "-1 = protons and neutrons (protons/neutrons can arrange quarks on -1 dimensions\n",
    "\n",
    "0 = electrons (electrons can arrange protons&neutrons on 0 dimensions)\n",
    "\n",
    "1 = atoms (atoms can arrange electrons on 1 dimension)\n",
    "\n",
    "2 = molecules (molecules can arrange atoms on 2 dimensions)\n",
    "\n",
    "3 = physical space (our physical space can arrange molecules on 3 dimensions)\n",
    "\n",
    "*Do you see it?*"
   ]
  },
  {
   "cell_type": "markdown",
   "id": "7af943ce",
   "metadata": {},
   "source": [
    "\n",
    "$-2 = (1/2) * (1/3) * (1/4) *...$\n",
    "\n",
    "$-1 = (1/1) + (1/2) + (1/3) +...$\n",
    "\n",
    "$0 = 0 + 1 + 1 +...$\n",
    "\n",
    "$1 = 1 + 2 + 3 +...$\n",
    "\n",
    "$2 =  2 * 3 * 4 *...$\n",
    "\n",
    "$3 = ((3^4)^5)^...$"
   ]
  },
  {
   "cell_type": "markdown",
   "id": "c63a35cb",
   "metadata": {},
   "source": [
    "See for further reference of [representations](https://github.com/cloudroger/math/blob/main/HyperFactorials.ipynb)"
   ]
  }
 ],
 "metadata": {
  "kernelspec": {
   "display_name": "Python 3",
   "language": "python",
   "name": "python3"
  },
  "language_info": {
   "codemirror_mode": {
    "name": "ipython",
    "version": 3
   },
   "file_extension": ".py",
   "mimetype": "text/x-python",
   "name": "python",
   "nbconvert_exporter": "python",
   "pygments_lexer": "ipython3",
   "version": "3.8.10"
  }
 },
 "nbformat": 4,
 "nbformat_minor": 5
}
